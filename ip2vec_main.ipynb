{
 "cells": [
  {
   "cell_type": "markdown",
   "id": "d5c4a893",
   "metadata": {},
   "source": [
    "import ip2vec"
   ]
  },
  {
   "cell_type": "code",
   "execution_count": 3,
   "id": "59033647",
   "metadata": {},
   "outputs": [],
   "source": [
    "import pandas as pd\n",
    "import numpy as np\n",
    "from model import ip2vec \n",
    "from preprocess import Preprocess"
   ]
  },
  {
   "cell_type": "markdown",
   "id": "c1fa7885",
   "metadata": {},
   "source": [
    "dataset 재구성"
   ]
  },
  {
   "cell_type": "code",
   "execution_count": 11,
   "id": "611e6090",
   "metadata": {},
   "outputs": [],
   "source": [
    "# data upload\n",
    "file_path = r'file_path'\n",
    "mta_df = pd.read_csv(file_path)"
   ]
  },
  {
   "cell_type": "code",
   "execution_count": 13,
   "id": "412c800a",
   "metadata": {},
   "outputs": [],
   "source": [
    "df = mta_df[['source','destination','src_port','dst_port','prot']].copy()"
   ]
  },
  {
   "cell_type": "code",
   "execution_count": 10,
   "id": "3451fe98",
   "metadata": {},
   "outputs": [
    {
     "data": {
      "text/html": [
       "<div>\n",
       "<style scoped>\n",
       "    .dataframe tbody tr th:only-of-type {\n",
       "        vertical-align: middle;\n",
       "    }\n",
       "\n",
       "    .dataframe tbody tr th {\n",
       "        vertical-align: top;\n",
       "    }\n",
       "\n",
       "    .dataframe thead th {\n",
       "        text-align: right;\n",
       "    }\n",
       "</style>\n",
       "<table border=\"1\" class=\"dataframe\">\n",
       "  <thead>\n",
       "    <tr style=\"text-align: right;\">\n",
       "      <th></th>\n",
       "      <th>source</th>\n",
       "      <th>destination</th>\n",
       "      <th>dst_port</th>\n",
       "      <th>prot</th>\n",
       "    </tr>\n",
       "  </thead>\n",
       "  <tbody>\n",
       "    <tr>\n",
       "      <th>0</th>\n",
       "      <td>10.6.2.101</td>\n",
       "      <td>10.6.2.1</td>\n",
       "      <td>53</td>\n",
       "      <td>17</td>\n",
       "    </tr>\n",
       "    <tr>\n",
       "      <th>1</th>\n",
       "      <td>10.6.2.101</td>\n",
       "      <td>143.95.239.62</td>\n",
       "      <td>80</td>\n",
       "      <td>6</td>\n",
       "    </tr>\n",
       "    <tr>\n",
       "      <th>2</th>\n",
       "      <td>10.6.2.101</td>\n",
       "      <td>185.141.25.23</td>\n",
       "      <td>443</td>\n",
       "      <td>6</td>\n",
       "    </tr>\n",
       "    <tr>\n",
       "      <th>3</th>\n",
       "      <td>10.6.2.101</td>\n",
       "      <td>185.141.25.23</td>\n",
       "      <td>443</td>\n",
       "      <td>6</td>\n",
       "    </tr>\n",
       "    <tr>\n",
       "      <th>4</th>\n",
       "      <td>10.6.2.101</td>\n",
       "      <td>147.32.5.111</td>\n",
       "      <td>8043</td>\n",
       "      <td>6</td>\n",
       "    </tr>\n",
       "  </tbody>\n",
       "</table>\n",
       "</div>"
      ],
      "text/plain": [
       "       source    destination  dst_port  prot\n",
       "0  10.6.2.101       10.6.2.1        53    17\n",
       "1  10.6.2.101  143.95.239.62        80     6\n",
       "2  10.6.2.101  185.141.25.23       443     6\n",
       "3  10.6.2.101  185.141.25.23       443     6\n",
       "4  10.6.2.101   147.32.5.111      8043     6"
      ]
     },
     "execution_count": 10,
     "metadata": {},
     "output_type": "execute_result"
    }
   ],
   "source": [
    "df.head()"
   ]
  },
  {
   "cell_type": "code",
   "execution_count": 8,
   "id": "ba90bc6c",
   "metadata": {},
   "outputs": [],
   "source": [
    "del mta_df"
   ]
  },
  {
   "cell_type": "markdown",
   "id": "74cb2571",
   "metadata": {},
   "source": [
    "단방향 플로우 만들기"
   ]
  },
  {
   "cell_type": "code",
   "execution_count": 14,
   "id": "0a21cabe",
   "metadata": {},
   "outputs": [],
   "source": [
    "copy_df = df[['prot']].copy()\n",
    "copy_df['source'] = df['destination'].copy()\n",
    "copy_df['dst_port'] = df['src_port'].copy()\n",
    "copy_df['destination'] = df['source'].copy()"
   ]
  },
  {
   "cell_type": "code",
   "execution_count": 15,
   "id": "7ca8546e",
   "metadata": {},
   "outputs": [],
   "source": [
    "df.drop(columns=['src_port'],inplace=True)"
   ]
  },
  {
   "cell_type": "code",
   "execution_count": 16,
   "id": "9a680408",
   "metadata": {},
   "outputs": [],
   "source": [
    "copy_df = copy_df.reindex(columns=['source','destination','dst_port','prot'])\n",
    "df_all = pd.concat([df,copy_df])"
   ]
  },
  {
   "cell_type": "code",
   "execution_count": 17,
   "id": "bd64d2d7",
   "metadata": {},
   "outputs": [
    {
     "data": {
      "text/html": [
       "<div>\n",
       "<style scoped>\n",
       "    .dataframe tbody tr th:only-of-type {\n",
       "        vertical-align: middle;\n",
       "    }\n",
       "\n",
       "    .dataframe tbody tr th {\n",
       "        vertical-align: top;\n",
       "    }\n",
       "\n",
       "    .dataframe thead th {\n",
       "        text-align: right;\n",
       "    }\n",
       "</style>\n",
       "<table border=\"1\" class=\"dataframe\">\n",
       "  <thead>\n",
       "    <tr style=\"text-align: right;\">\n",
       "      <th></th>\n",
       "      <th>source</th>\n",
       "      <th>destination</th>\n",
       "      <th>dst_port</th>\n",
       "      <th>prot</th>\n",
       "    </tr>\n",
       "  </thead>\n",
       "  <tbody>\n",
       "    <tr>\n",
       "      <th>0</th>\n",
       "      <td>10.6.2.101</td>\n",
       "      <td>10.6.2.1</td>\n",
       "      <td>53</td>\n",
       "      <td>17</td>\n",
       "    </tr>\n",
       "    <tr>\n",
       "      <th>1</th>\n",
       "      <td>10.6.2.101</td>\n",
       "      <td>143.95.239.62</td>\n",
       "      <td>80</td>\n",
       "      <td>6</td>\n",
       "    </tr>\n",
       "    <tr>\n",
       "      <th>2</th>\n",
       "      <td>10.6.2.101</td>\n",
       "      <td>185.141.25.23</td>\n",
       "      <td>443</td>\n",
       "      <td>6</td>\n",
       "    </tr>\n",
       "    <tr>\n",
       "      <th>3</th>\n",
       "      <td>10.6.2.101</td>\n",
       "      <td>185.141.25.23</td>\n",
       "      <td>443</td>\n",
       "      <td>6</td>\n",
       "    </tr>\n",
       "    <tr>\n",
       "      <th>4</th>\n",
       "      <td>10.6.2.101</td>\n",
       "      <td>147.32.5.111</td>\n",
       "      <td>8043</td>\n",
       "      <td>6</td>\n",
       "    </tr>\n",
       "  </tbody>\n",
       "</table>\n",
       "</div>"
      ],
      "text/plain": [
       "       source    destination  dst_port  prot\n",
       "0  10.6.2.101       10.6.2.1        53    17\n",
       "1  10.6.2.101  143.95.239.62        80     6\n",
       "2  10.6.2.101  185.141.25.23       443     6\n",
       "3  10.6.2.101  185.141.25.23       443     6\n",
       "4  10.6.2.101   147.32.5.111      8043     6"
      ]
     },
     "execution_count": 17,
     "metadata": {},
     "output_type": "execute_result"
    }
   ],
   "source": [
    "df_all[:5]"
   ]
  },
  {
   "cell_type": "code",
   "execution_count": 18,
   "id": "f01054ef",
   "metadata": {
    "scrolled": true
   },
   "outputs": [],
   "source": [
    "df_all = df_all.drop_duplicates()"
   ]
  },
  {
   "cell_type": "markdown",
   "id": "2826203d",
   "metadata": {},
   "source": [
    "preprocess"
   ]
  },
  {
   "cell_type": "code",
   "execution_count": 19,
   "id": "b395d1bf",
   "metadata": {},
   "outputs": [],
   "source": [
    "flows = df_all.values\n",
    "word_to_id = {}\n",
    "window_size = 4"
   ]
  },
  {
   "cell_type": "code",
   "execution_count": 20,
   "id": "248b3e95",
   "metadata": {},
   "outputs": [],
   "source": [
    "i=0\n",
    "for row in df_all.values:\n",
    "    for item in row:\n",
    "        if item not in word_to_id:\n",
    "            word_to_id[item] = i\n",
    "            i+=1"
   ]
  },
  {
   "cell_type": "code",
   "execution_count": 21,
   "id": "31a30e61",
   "metadata": {
    "scrolled": true
   },
   "outputs": [
    {
     "data": {
      "text/plain": [
       "34"
      ]
     },
     "execution_count": 21,
     "metadata": {},
     "output_type": "execute_result"
    }
   ],
   "source": [
    "len(word_to_id)"
   ]
  },
  {
   "cell_type": "code",
   "execution_count": 22,
   "id": "4171cfd0",
   "metadata": {},
   "outputs": [
    {
     "data": {
      "text/plain": [
       "27"
      ]
     },
     "execution_count": 22,
     "metadata": {},
     "output_type": "execute_result"
    }
   ],
   "source": [
    "len(df_all)"
   ]
  },
  {
   "cell_type": "code",
   "execution_count": 23,
   "id": "70d27b62",
   "metadata": {},
   "outputs": [],
   "source": [
    "preprocessor = Preprocess(flows, word_to_id, window_size)\n",
    "X_train, y_train = preprocessor.generate_training_data()"
   ]
  },
  {
   "cell_type": "code",
   "execution_count": 24,
   "id": "ab49b3e9",
   "metadata": {},
   "outputs": [
    {
     "data": {
      "text/plain": [
       "array([ 0,  0,  0,  1,  1,  2,  2,  3,  3,  3,  0,  0,  0,  4,  4,  5,  5,\n",
       "        6,  6,  6,  0,  0,  0,  7,  7,  8,  8,  6,  6,  6,  0,  0,  0,  9,\n",
       "        9, 10, 10,  6,  6,  6,  0,  0,  0, 11, 11,  8,  8,  6,  6,  6,  0,\n",
       "        0,  0, 12, 12,  8,  8,  6,  6,  6,  0,  0,  0, 13, 13,  8,  8,  6,\n",
       "        6,  6,  0,  0,  0, 14, 14,  8,  8,  6,  6,  6,  0,  0,  0, 15, 15,\n",
       "        8,  8,  6,  6,  6,  0,  0,  0, 16, 16,  8,  8,  6,  6,  6,  1,  1,\n",
       "        1,  0,  0, 17, 17,  3,  3,  3,  4,  4,  4,  0,  0, 18, 18,  6,  6,\n",
       "        6,  7,  7,  7,  0,  0, 19, 19,  6,  6,  6,  7,  7,  7,  0,  0, 20,\n",
       "       20,  6,  6,  6,  9,  9,  9,  0,  0, 21, 21,  6,  6,  6,  9,  9,  9,\n",
       "        0,  0, 22, 22,  6,  6,  6,  9,  9,  9,  0,  0, 23, 23,  6,  6,  6,\n",
       "        9,  9,  9,  0,  0, 24, 24,  6,  6,  6, 11, 11, 11,  0,  0, 25, 25,\n",
       "        6,  6,  6, 11, 11, 11,  0,  0, 26, 26,  6,  6,  6, 12, 12, 12,  0,\n",
       "        0, 27, 27,  6,  6,  6, 13, 13, 13,  0,  0, 28, 28,  6,  6,  6, 14,\n",
       "       14, 14,  0,  0, 29, 29,  6,  6,  6, 15, 15, 15,  0,  0, 30, 30,  6,\n",
       "        6,  6, 11, 11, 11,  0,  0, 31, 31,  6,  6,  6, 11, 11, 11,  0,  0,\n",
       "       32, 32,  6,  6,  6, 16, 16, 16,  0,  0, 33, 33,  6,  6,  6])"
      ]
     },
     "execution_count": 24,
     "metadata": {},
     "output_type": "execute_result"
    }
   ],
   "source": [
    "X_train[0]"
   ]
  },
  {
   "cell_type": "code",
   "execution_count": 25,
   "id": "7b1427da",
   "metadata": {},
   "outputs": [
    {
     "data": {
      "text/plain": [
       "array([ 1,  2,  3,  2,  3,  1,  3,  0,  1,  2,  4,  5,  6,  5,  6,  4,  6,\n",
       "        0,  4,  5,  7,  8,  6,  8,  6,  7,  6,  0,  7,  8,  9, 10,  6, 10,\n",
       "        6,  9,  6,  0,  9, 10, 11,  8,  6,  8,  6, 11,  6,  0, 11,  8, 12,\n",
       "        8,  6,  8,  6, 12,  6,  0, 12,  8, 13,  8,  6,  8,  6, 13,  6,  0,\n",
       "       13,  8, 14,  8,  6,  8,  6, 14,  6,  0, 14,  8, 15,  8,  6,  8,  6,\n",
       "       15,  6,  0, 15,  8, 16,  8,  6,  8,  6, 16,  6,  0, 16,  8,  0, 17,\n",
       "        3, 17,  3,  0,  3,  1,  0, 17,  0, 18,  6, 18,  6,  0,  6,  4,  0,\n",
       "       18,  0, 19,  6, 19,  6,  0,  6,  7,  0, 19,  0, 20,  6, 20,  6,  0,\n",
       "        6,  7,  0, 20,  0, 21,  6, 21,  6,  0,  6,  9,  0, 21,  0, 22,  6,\n",
       "       22,  6,  0,  6,  9,  0, 22,  0, 23,  6, 23,  6,  0,  6,  9,  0, 23,\n",
       "        0, 24,  6, 24,  6,  0,  6,  9,  0, 24,  0, 25,  6, 25,  6,  0,  6,\n",
       "       11,  0, 25,  0, 26,  6, 26,  6,  0,  6, 11,  0, 26,  0, 27,  6, 27,\n",
       "        6,  0,  6, 12,  0, 27,  0, 28,  6, 28,  6,  0,  6, 13,  0, 28,  0,\n",
       "       29,  6, 29,  6,  0,  6, 14,  0, 29,  0, 30,  6, 30,  6,  0,  6, 15,\n",
       "        0, 30,  0, 31,  6, 31,  6,  0,  6, 11,  0, 31,  0, 32,  6, 32,  6,\n",
       "        0,  6, 11,  0, 32,  0, 33,  6, 33,  6,  0,  6, 16,  0, 33])"
      ]
     },
     "execution_count": 25,
     "metadata": {},
     "output_type": "execute_result"
    }
   ],
   "source": [
    "y_train[0]"
   ]
  },
  {
   "cell_type": "code",
   "execution_count": 26,
   "id": "8c67ac43",
   "metadata": {},
   "outputs": [],
   "source": [
    "vocab_size = len(word_to_id)"
   ]
  },
  {
   "cell_type": "code",
   "execution_count": 27,
   "id": "14a3b7ef",
   "metadata": {
    "scrolled": false
   },
   "outputs": [],
   "source": [
    "Y = np.eye(vocab_size)[y_train[0]]"
   ]
  },
  {
   "cell_type": "code",
   "execution_count": 28,
   "id": "5f4f1ff0",
   "metadata": {},
   "outputs": [],
   "source": [
    "import torch"
   ]
  },
  {
   "cell_type": "code",
   "execution_count": 29,
   "id": "c3c0cb96",
   "metadata": {},
   "outputs": [],
   "source": [
    "tensor_data = torch.tensor(Y)\n",
    "\n",
    "trans_ = torch.transpose(tensor_data,0,1)\n",
    "\n",
    "#numpy = trans_.numpy()"
   ]
  },
  {
   "cell_type": "code",
   "execution_count": 30,
   "id": "6119d7e8",
   "metadata": {},
   "outputs": [
    {
     "data": {
      "text/plain": [
       "torch.Size([34, 270])"
      ]
     },
     "execution_count": 30,
     "metadata": {},
     "output_type": "execute_result"
    }
   ],
   "source": [
    "trans_.shape"
   ]
  },
  {
   "cell_type": "code",
   "execution_count": 31,
   "id": "e1b4f14d",
   "metadata": {},
   "outputs": [
    {
     "data": {
      "text/plain": [
       "(270, 34)"
      ]
     },
     "execution_count": 31,
     "metadata": {},
     "output_type": "execute_result"
    }
   ],
   "source": [
    "Y.shape"
   ]
  },
  {
   "cell_type": "code",
   "execution_count": 32,
   "id": "3ba42e8c",
   "metadata": {
    "collapsed": true
   },
   "outputs": [
    {
     "data": {
      "text/plain": [
       "array([ 1,  2,  3,  2,  3,  1,  3,  0,  1,  2,  4,  5,  6,  5,  6,  4,  6,\n",
       "        0,  4,  5,  7,  8,  6,  8,  6,  7,  6,  0,  7,  8,  9, 10,  6, 10,\n",
       "        6,  9,  6,  0,  9, 10, 11,  8,  6,  8,  6, 11,  6,  0, 11,  8, 12,\n",
       "        8,  6,  8,  6, 12,  6,  0, 12,  8, 13,  8,  6,  8,  6, 13,  6,  0,\n",
       "       13,  8, 14,  8,  6,  8,  6, 14,  6,  0, 14,  8, 15,  8,  6,  8,  6,\n",
       "       15,  6,  0, 15,  8, 16,  8,  6,  8,  6, 16,  6,  0, 16,  8,  0, 17,\n",
       "        3, 17,  3,  0,  3,  1,  0, 17,  0, 18,  6, 18,  6,  0,  6,  4,  0,\n",
       "       18,  0, 19,  6, 19,  6,  0,  6,  7,  0, 19,  0, 20,  6, 20,  6,  0,\n",
       "        6,  7,  0, 20,  0, 21,  6, 21,  6,  0,  6,  9,  0, 21,  0, 22,  6,\n",
       "       22,  6,  0,  6,  9,  0, 22,  0, 23,  6, 23,  6,  0,  6,  9,  0, 23,\n",
       "        0, 24,  6, 24,  6,  0,  6,  9,  0, 24,  0, 25,  6, 25,  6,  0,  6,\n",
       "       11,  0, 25,  0, 26,  6, 26,  6,  0,  6, 11,  0, 26,  0, 27,  6, 27,\n",
       "        6,  0,  6, 12,  0, 27,  0, 28,  6, 28,  6,  0,  6, 13,  0, 28,  0,\n",
       "       29,  6, 29,  6,  0,  6, 14,  0, 29,  0, 30,  6, 30,  6,  0,  6, 15,\n",
       "        0, 30,  0, 31,  6, 31,  6,  0,  6, 11,  0, 31,  0, 32,  6, 32,  6,\n",
       "        0,  6, 11,  0, 32,  0, 33,  6, 33,  6,  0,  6, 16,  0, 33])"
      ]
     },
     "execution_count": 32,
     "metadata": {},
     "output_type": "execute_result"
    }
   ],
   "source": [
    "y_train[0]"
   ]
  },
  {
   "cell_type": "code",
   "execution_count": 33,
   "id": "264aebf7",
   "metadata": {
    "scrolled": true
   },
   "outputs": [
    {
     "data": {
      "text/plain": [
       "array([[0., 1., 0., ..., 0., 0., 0.],\n",
       "       [0., 0., 1., ..., 0., 0., 0.],\n",
       "       [0., 0., 0., ..., 0., 0., 0.],\n",
       "       ...,\n",
       "       [0., 0., 0., ..., 0., 0., 0.],\n",
       "       [1., 0., 0., ..., 0., 0., 0.],\n",
       "       [0., 0., 0., ..., 0., 0., 1.]])"
      ]
     },
     "execution_count": 33,
     "metadata": {},
     "output_type": "execute_result"
    }
   ],
   "source": [
    "np.eye(vocab_size)[y_train[0]]"
   ]
  },
  {
   "cell_type": "code",
   "execution_count": 34,
   "id": "8ba89ecc",
   "metadata": {
    "scrolled": false
   },
   "outputs": [
    {
     "data": {
      "text/plain": [
       "array([[0., 1., 0., ..., 0., 0., 0.],\n",
       "       [0., 0., 1., ..., 0., 0., 0.],\n",
       "       [0., 0., 0., ..., 0., 0., 0.],\n",
       "       ...,\n",
       "       [0., 0., 0., ..., 0., 0., 0.],\n",
       "       [1., 0., 0., ..., 0., 0., 0.],\n",
       "       [0., 0., 0., ..., 0., 0., 1.]])"
      ]
     },
     "execution_count": 34,
     "metadata": {},
     "output_type": "execute_result"
    }
   ],
   "source": [
    "Y"
   ]
  },
  {
   "cell_type": "code",
   "execution_count": 35,
   "id": "9a5e2099",
   "metadata": {},
   "outputs": [
    {
     "data": {
      "text/plain": [
       "270"
      ]
     },
     "execution_count": 35,
     "metadata": {},
     "output_type": "execute_result"
    }
   ],
   "source": [
    "X_train[0].shape[0]"
   ]
  },
  {
   "cell_type": "code",
   "execution_count": 36,
   "id": "24bd0e19",
   "metadata": {},
   "outputs": [],
   "source": [
    "emb_size = X_train[0].shape[0]"
   ]
  },
  {
   "cell_type": "code",
   "execution_count": 37,
   "id": "f12e36f8",
   "metadata": {},
   "outputs": [
    {
     "data": {
      "text/plain": [
       "(1, 270)"
      ]
     },
     "execution_count": 37,
     "metadata": {},
     "output_type": "execute_result"
    }
   ],
   "source": [
    "X_train.shape"
   ]
  },
  {
   "cell_type": "code",
   "execution_count": 38,
   "id": "0446c703",
   "metadata": {},
   "outputs": [
    {
     "data": {
      "text/plain": [
       "(270, 34)"
      ]
     },
     "execution_count": 38,
     "metadata": {},
     "output_type": "execute_result"
    }
   ],
   "source": [
    "Y.shape"
   ]
  },
  {
   "cell_type": "code",
   "execution_count": 42,
   "id": "5b92279c",
   "metadata": {
    "scrolled": true
   },
   "outputs": [
    {
     "name": "stdout",
     "output_type": "stream",
     "text": [
      "1\n",
      "1\n",
      "Cost after epoch 0: 6.985921563957013\n",
      "{'WRD_EMB': array([[ 0.00641253,  0.02146886, -0.00868642, ..., -0.01731212,\n",
      "        -0.00061032,  0.00293797],\n",
      "       [ 0.00978194,  0.01452107, -0.00400282, ...,  0.00226595,\n",
      "         0.01721814,  0.00126436],\n",
      "       [-0.00567374,  0.00634228,  0.00451803, ..., -0.0064377 ,\n",
      "        -0.00514514, -0.00266442],\n",
      "       ...,\n",
      "       [ 0.02264513, -0.00779379, -0.01276114, ...,  0.011877  ,\n",
      "         0.00775502,  0.00015998],\n",
      "       [-0.00434755, -0.01373933, -0.0073022 , ..., -0.00716515,\n",
      "         0.01124199,  0.00233009],\n",
      "       [-0.0137326 ,  0.00078333,  0.00693507, ...,  0.00519663,\n",
      "        -0.01455713, -0.02211812]]), 'W': array([[-0.02445532, -0.01418724,  0.01130856, ..., -0.00897948,\n",
      "         0.00779099, -0.00584423],\n",
      "       [ 0.02353665, -0.00048092, -0.00459308, ..., -0.00876235,\n",
      "        -0.00977946, -0.01065886],\n",
      "       [ 0.00702072,  0.00304094, -0.02174294, ..., -0.003751  ,\n",
      "         0.00074669, -0.00044829],\n",
      "       ...,\n",
      "       [-0.01476896, -0.01009257, -0.00921107, ...,  0.00284658,\n",
      "         0.01878965, -0.00817283],\n",
      "       [ 0.0007627 , -0.00127128,  0.00499205, ..., -0.01135566,\n",
      "         0.00569424,  0.02909888],\n",
      "       [-0.01106568,  0.00430952,  0.00289383, ..., -0.00608115,\n",
      "         0.00893984, -0.00150045]])}\n"
     ]
    },
    {
     "data": {
      "image/png": "[encoded data removed]",
      "text/plain": [
       "<Figure size 432x288 with 1 Axes>"
      ]
     },
     "metadata": {
      "needs_background": "light"
     },
     "output_type": "display_data"
    }
   ],
   "source": [
    "model = ip2vec(vocab_size,vocab_size)\n",
    "\n",
    "# 예시 데이터와 하이퍼파라미터 설정\n",
    "#X = np.array([[0, 1, 2, 3, 4, 5, 6, 7]])  # 입력 단어의 인덱스들\n",
    "#Y = np.eye(vocab_size)[X]  # 레이블을 원-핫 인코딩으로 변환 \n",
    "learning_rate = 0.01\n",
    "epochs = 1\n",
    "\n",
    "# 모델 학습\n",
    "trained_parameters = model.skipgram_model_training(X_train,Y.T, vocab_size, vocab_size, learning_rate, epochs) # 두번째 vocab_size는 embedd size\n",
    "\n",
    "# 학습된 파라미터 확인                       \n",
    "print(trained_parameters)                 "
   ]
  },
  {
   "cell_type": "code",
   "execution_count": 43,
   "id": "f11df54f",
   "metadata": {
    "scrolled": true
   },
   "outputs": [
    {
     "data": {
      "text/plain": [
       "{'WRD_EMB': array([[ 0.00641253,  0.02146886, -0.00868642, ..., -0.01731212,\n",
       "         -0.00061032,  0.00293797],\n",
       "        [ 0.00978194,  0.01452107, -0.00400282, ...,  0.00226595,\n",
       "          0.01721814,  0.00126436],\n",
       "        [-0.00567374,  0.00634228,  0.00451803, ..., -0.0064377 ,\n",
       "         -0.00514514, -0.00266442],\n",
       "        ...,\n",
       "        [ 0.02264513, -0.00779379, -0.01276114, ...,  0.011877  ,\n",
       "          0.00775502,  0.00015998],\n",
       "        [-0.00434755, -0.01373933, -0.0073022 , ..., -0.00716515,\n",
       "          0.01124199,  0.00233009],\n",
       "        [-0.0137326 ,  0.00078333,  0.00693507, ...,  0.00519663,\n",
       "         -0.01455713, -0.02211812]]),\n",
       " 'W': array([[-0.02445532, -0.01418724,  0.01130856, ..., -0.00897948,\n",
       "          0.00779099, -0.00584423],\n",
       "        [ 0.02353665, -0.00048092, -0.00459308, ..., -0.00876235,\n",
       "         -0.00977946, -0.01065886],\n",
       "        [ 0.00702072,  0.00304094, -0.02174294, ..., -0.003751  ,\n",
       "          0.00074669, -0.00044829],\n",
       "        ...,\n",
       "        [-0.01476896, -0.01009257, -0.00921107, ...,  0.00284658,\n",
       "          0.01878965, -0.00817283],\n",
       "        [ 0.0007627 , -0.00127128,  0.00499205, ..., -0.01135566,\n",
       "          0.00569424,  0.02909888],\n",
       "        [-0.01106568,  0.00430952,  0.00289383, ..., -0.00608115,\n",
       "          0.00893984, -0.00150045]])}"
      ]
     },
     "execution_count": 43,
     "metadata": {},
     "output_type": "execute_result"
    }
   ],
   "source": [
    "trained_parameters"
   ]
  },
  {
   "cell_type": "code",
   "execution_count": 44,
   "id": "d81f1635",
   "metadata": {},
   "outputs": [
    {
     "data": {
      "text/plain": [
       "(34, 34)"
      ]
     },
     "execution_count": 44,
     "metadata": {},
     "output_type": "execute_result"
    }
   ],
   "source": [
    "trained_parameters['WRD_EMB'].shape"
   ]
  },
  {
   "cell_type": "code",
   "execution_count": 45,
   "id": "21ca9645",
   "metadata": {
    "scrolled": true
   },
   "outputs": [
    {
     "data": {
      "text/plain": [
       "(34, 34)"
      ]
     },
     "execution_count": 45,
     "metadata": {},
     "output_type": "execute_result"
    }
   ],
   "source": [
    "trained_parameters['W'].shape"
   ]
  }
 ],
 "metadata": {
  "kernelspec": {
   "display_name": "Python 3 (ipykernel)",
   "language": "python",
   "name": "python3"
  },
  "language_info": {
   "codemirror_mode": {
    "name": "ipython",
    "version": 3
   },
   "file_extension": ".py",
   "mimetype": "text/x-python",
   "name": "python",
   "nbconvert_exporter": "python",
   "pygments_lexer": "ipython3",
   "version": "3.9.12"
  }
 },
 "nbformat": 4,
 "nbformat_minor": 5
}
